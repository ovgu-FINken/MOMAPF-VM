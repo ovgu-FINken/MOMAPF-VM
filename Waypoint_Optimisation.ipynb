{
 "cells": [
  {
   "cell_type": "markdown",
   "metadata": {},
   "source": [
    "# Multi Objective Multi Agent Pathfinding Subject to Vehicle Models\n",
    "\n",
    "## Overview\n",
    "- loading packages\n",
    "- Performing single runs\n",
    "- Visualizing single runs\n",
    "- Visualising multiple runs from the DB\n",
    "- Running multiple experiments and saving to DB\n",
    "\n",
    "## Objectives\n",
    "- Makespan: Number of steps of the longest path\n",
    "- Flowtime: Mean number of steps for all agents\n",
    "- Robustness:\n",
    "  * Positive: Shortest distance \n",
    "    * of an agent to other agents\n",
    "    * half the distance to the wall\n",
    "    * reasoning: an agent has radius r and the bigger r could be the better, min distance between two agents is twice agents to wall\n",
    "  * Negative: In case an agent crosses through an obstacle fraction of the infeasible steps"
   ]
  },
  {
   "cell_type": "raw",
   "metadata": {},
   "source": [
    "%pip install --upgrade pip \n",
    "%pip install --upgrade numpy dubins deap matplotlib==3.3.0 pandas ipympl seaborn ipywidgets sqlalchemy gitpython nbstripout pre-commit smmap"
   ]
  },
  {
   "cell_type": "code",
   "execution_count": null,
   "metadata": {},
   "outputs": [],
   "source": [
    "%matplotlib widget\n",
    "\n",
    "import numpy as np\n",
    "import matplotlib.pyplot as plt\n",
    "from matplotlib import rc, animation\n",
    "import itertools\n",
    "from IPython import display\n",
    "import pandas as pd\n",
    "import seaborn as sns\n",
    "import cProfile\n",
    "import pstats\n",
    "\n",
    "import ipywidgets as widgets\n",
    "\n",
    "from deap import base, creator, tools, algorithms\n",
    "\n",
    "rc(\"animation\", html=\"jshtml\")\n",
    "\n",
    "from path import *\n",
    "from obstacle_map import *\n",
    "from problem import *\n",
    "from experiment import *\n",
    "\n",
    "import sqlalchemy\n",
    "\n",
    "engine = sqlalchemy.create_engine(get_key(filename=\"db.key\"))\n",
    "plt.close(\"all\")"
   ]
  },
  {
   "cell_type": "markdown",
   "metadata": {},
   "source": [
    "## Running the Algorithm"
   ]
  },
  {
   "cell_type": "code",
   "execution_count": null,
   "metadata": {},
   "outputs": [],
   "source": [
    "mutation_settings = {\n",
    "    'type_distribution' : {\n",
    "            'skip' : 1.0,\n",
    "            'uniform' : 0.0,\n",
    "            'waypoint' : 1.0,\n",
    "            'agent' : 1.0,\n",
    "            'full' : 1.0,\n",
    "        }, # distribution of mutation types\n",
    "    'sigma_waypoint' : 0.3, # sigma for gauss-distribution in waypoint-gauss-mutation\n",
    "    'sigma_agent' : 0.1, # sigma for gauss-distribution in agent-wide mutation\n",
    "    'sigma_full' : 0.03, # sigma for gauss-mutation of all waypoints at the same time\n",
    "    'mode' : \"polynomial\",\n",
    "    'p' : 0.5,\n",
    "}\n",
    "settings = {\n",
    "    'radius': 20, # turning radius (dubins vehicle)\n",
    "    'model': Vehicle.RTR, # vehicle model\n",
    "    'step': 1, # step size for simulated behaviour\n",
    "    'domain': (0, 200.0), # area of operation (-100, 100) means that the vehicles will move in a square from (x=-100, y=-100) to (x=100, y=100)\n",
    "    'min_speed' : 0.2, \n",
    "    'n_agents': 5, # number of agents\n",
    "    'n_waypoints': 1, # waypoints per agent (excluding start and end)\n",
    "    'n_gens': 20, # number of generations to run the algorithm\n",
    "    'population_size': 64, # population size for the algorithm, shoulod be divisible by 4 for nsga2\n",
    "    'cxpb': .4, # crossover probablity\n",
    "    'mutpb': 0.8, # mutation rate (not applicable in nsga2)\n",
    "    'mutation_settings' : mutation_settings,\n",
    "\n",
    "    'feasiblity_threshold': 95.0, # how robust a solution has to be to be regarded feasible (100-min_dist)\n",
    "    'offset': (0, 0), # offset of the map to the agents\n",
    "    'map_name': \"obstacles/gaps_4_easy_60.npy\", # name of the obstacle-map file\n",
    "    'metric': Metric.MIN, # metric to use in fitness calculation\n",
    "    'hv_ref': (100, 600, 600), # reference for hyper volume\n",
    "    'velocity_control': True, # turn on velocity control (4th dimension on wp)\n",
    "    'novelty_k': 5, # k for knn- in novelty objective\n",
    "    'use_novelty': True,\n",
    "    'configuration': 'line',\n",
    "}\n",
    "profiling = False\n",
    "experiment = Experiment(settings) # load the settings\n",
    "experiment.setup() # setup population and deap-toolbox\n",
    "experiment.seed(42)"
   ]
  },
  {
   "cell_type": "raw",
   "metadata": {},
   "source": [
    "sol = experiment.toolbox.individual()\n",
    "experiment.problem.solution_animation(sol, plot_range=range(0,200), safety_radius=10, duration=10.0)"
   ]
  },
  {
   "cell_type": "code",
   "execution_count": null,
   "metadata": {},
   "outputs": [],
   "source": [
    " \n",
    "if profiling:\n",
    "    profile = cProfile.Profile()\n",
    "    profile.enable()\n",
    "pop, logbook = experiment.run(verbose=True) # start running :)\n",
    "if profiling:\n",
    "    profile.disable()"
   ]
  },
  {
   "cell_type": "code",
   "execution_count": null,
   "metadata": {},
   "outputs": [],
   "source": [
    "pop\n",
    "df_pop = experiment.pop_to_df(pop)\n",
    "sns.scatterplot(data=df_pop, x=\"robustness\", y=\"time\", hue=\"length\")\n",
    "plt.show()\n",
    "sns.scatterplot(data=df_pop, x=\"robustness\", y=\"length\", hue=\"time\")\n",
    "plt.show()\n",
    "sns.scatterplot(data=df_pop, x=\"length\", y=\"time\", hue=\"robustness\")"
   ]
  },
  {
   "cell_type": "code",
   "execution_count": null,
   "metadata": {},
   "outputs": [],
   "source": []
  },
  {
   "cell_type": "code",
   "execution_count": null,
   "metadata": {},
   "outputs": [],
   "source": [
    "df_log = logbook_to_df(logbook)\n",
    "df_log\n",
    "sns.lineplot(data=df_log, x=\"evals\", y=\"hv\")"
   ]
  },
  {
   "cell_type": "code",
   "execution_count": null,
   "metadata": {},
   "outputs": [],
   "source": [
    "if profiling:\n",
    "    stats = pstats.Stats(profile)\n",
    "    stats.sort_stats(\"cumtime\")\n",
    "    stats.print_stats()"
   ]
  },
  {
   "cell_type": "markdown",
   "metadata": {},
   "source": [
    "## Visualization of single runs\n",
    "\n",
    "- plot general data\n",
    "- plot best solutions\n",
    "- animation for best solution (use filename=\"FOO.mp4\" to save a video file)\n",
    "- visualize mutation and crossover operators"
   ]
  },
  {
   "cell_type": "code",
   "execution_count": null,
   "metadata": {},
   "outputs": [],
   "source": [
    "# select 5 best individuals (non-dominated sorting)\n",
    "best = experiment.toolbox.select(pop, 5)"
   ]
  },
  {
   "cell_type": "code",
   "execution_count": null,
   "metadata": {},
   "outputs": [],
   "source": [
    "settings['model'].name"
   ]
  },
  {
   "cell_type": "code",
   "execution_count": null,
   "metadata": {},
   "outputs": [],
   "source": [
    "for i, ind in enumerate(best):\n",
    "    plt.figure(figsize=(3,3))\n",
    "    f = experiment.problem.solution_plot(ind, plot_range=range(0, 200), legend=False, show=False)\n",
    "\n",
    "    plt.title(f\"$f_R^*={ind.fitness.values[0]:.1f}$, $f_L={ind.fitness.values[1]:.1f}$\")\n",
    "    #plt.savefig(f\"examples/vehicle_example_{settings['model'].name}_{i}.eps\")\n",
    "    plt.show()"
   ]
  },
  {
   "cell_type": "code",
   "execution_count": null,
   "metadata": {},
   "outputs": [],
   "source": [
    "paths = pd.concat(experiment.problem.path_df(ind, additional_args={\"ind\": i}) for i, ind in enumerate(pop))\n",
    "paths[\"agent\"] = paths[\"agent\"].astype(\"int\")\n",
    "paths[\"gap\"] = 9 / (200/paths[\"y\"])\n",
    "paths[\"gap\"] = paths[\"gap\"].astype(\"int\")\n",
    "paths"
   ]
  },
  {
   "cell_type": "code",
   "execution_count": null,
   "metadata": {},
   "outputs": [],
   "source": [
    "group = paths.loc[paths.x.gt(99) & paths.x.lt(101)].groupby([\"agent\", \"ind\"]).median().reset_index()\n",
    "group[\"agent\"] = group[\"agent\"].astype(\"category\")\n",
    "sns.scatterplot(data=group, y=\"y\", x=\"agent\", hue=\"agent\")"
   ]
  },
  {
   "cell_type": "code",
   "execution_count": null,
   "metadata": {},
   "outputs": [],
   "source": [
    "plt.close(\"all\")"
   ]
  },
  {
   "cell_type": "code",
   "execution_count": null,
   "metadata": {},
   "outputs": [],
   "source": [
    "experiment.problem.get_point = experiment.problem._get_point\n",
    "for i, sol in enumerate(best):\n",
    "    print(sol.fitness.values)\n",
    "    sr = 10\n",
    "    if sol.fitness.values[0] < 100:\n",
    "        sr = (100 - sol.fitness.values[0]) / 2\n",
    "    experiment.problem.solution_animation(sol, plot_range=range(0,200), safety_radius=sr, duration=10.0, speedup=2)#, filename=f\"video/dubins_circle_swap_11_agents_2wp_{i}.mp4\")"
   ]
  },
  {
   "cell_type": "code",
   "execution_count": null,
   "metadata": {},
   "outputs": [],
   "source": [
    "sol = experiment.toolbox.individual()\n",
    "sol = best[0]\n",
    "experiment.problem.solution_plot(sol, plot_range=(0, 200))\n",
    "print(sol)\n",
    "print(experiment.problem.encode(experiment.problem.decode(sol)))\n",
    "\n",
    "experiment.problem.uniform_mutation(sol, debug = True)\n",
    "print(sol)\n",
    "print(\"uniform mutation:\")\n",
    "experiment.problem.solution_plot(sol, plot_range=range(0, 200))\n",
    "print(\"1pt gaussion mutation\")\n",
    "sol = experiment.problem.mutate(sol, debug=True)[0]\n",
    "experiment.problem.solution_plot(sol, plot_range=range(0, 200))\n",
    "print(\"full gaussian mutation:\")\n",
    "experiment.problem.mutate_full(sol)\n",
    "experiment.problem.solution_plot(sol, plot_range=range(0, 200))\n",
    "print(\"skip-mutation:\")\n",
    "experiment.problem.skip_mutation(sol, debug=True)\n",
    "experiment.problem.solution_plot(sol, plot_range=range(0, 200))\n",
    "#problem.waypoints_to_path(problem.decode(sol))"
   ]
  },
  {
   "cell_type": "code",
   "execution_count": null,
   "metadata": {},
   "outputs": [],
   "source": []
  },
  {
   "cell_type": "markdown",
   "metadata": {},
   "source": [
    "## Saving and Visualisation - Multiple runs with DB\n",
    "\n",
    "* works with `sqlalchemy` package and `sqlite` in dev environment\n",
    "* currently uses `experiments.db` saved to `engine` variable\n",
    "* adding and removing jobs to the db\n",
    "* running jobs\n",
    "* visualisation"
   ]
  },
  {
   "cell_type": "code",
   "execution_count": null,
   "metadata": {},
   "outputs": [],
   "source": [
    "plt.close(\"all\")"
   ]
  },
  {
   "cell_type": "code",
   "execution_count": null,
   "metadata": {},
   "outputs": [],
   "source": [
    "runner = ExperimentRunner(engine)\n",
    "running = True\n",
    "while running:\n",
    "    running = runner.fetch_and_execute()\n",
    "    "
   ]
  },
  {
   "cell_type": "code",
   "execution_count": null,
   "metadata": {},
   "outputs": [],
   "source": [
    "import ipympl\n",
    "%matplotlib ipympl\n",
    "\n",
    "\n",
    "#import ipympl.matplotlib.pyplot as plt\n",
    "import numpy as np\n",
    "import matplotlib.pyplot as plt\n",
    "from matplotlib import rc, animation\n",
    "from mpl_toolkits.mplot3d import Axes3D\n",
    "\n",
    "import itertools\n",
    "import IPython\n",
    "from IPython import display\n",
    "import pandas as pd\n",
    "import seaborn as sns\n",
    "import cProfile\n",
    "import pstats\n",
    "\n",
    "import ipywidgets as widgets\n",
    "\n",
    "from deap import base, creator, tools, algorithms\n",
    "\n",
    "plt.ion()\n",
    "rc(\"animation\", html=\"jshtml\")\n",
    "\n",
    "from path import *\n",
    "from obstacle_map import *\n",
    "from problem import *\n",
    "from experiment import *\n",
    "\n",
    "import sqlalchemy\n",
    "\n",
    "engine = sqlalchemy.create_engine(get_key(filename=\"db.key\"))\n",
    "plt.close(\"all\")"
   ]
  },
  {
   "cell_type": "code",
   "execution_count": null,
   "metadata": {},
   "outputs": [],
   "source": [
    "plt.close('all')\n",
    "f = plt.figure().gca(projection='3d')\n",
    "#data=df_pop.loc[df_pop.group.eq('circle') & df_pop.n_agents.eq(3) & df_pop.n_waypoints.eq(2) & df_pop.model.eq(6) & df_pop.feasible & df_pop.experiment_front].sample(n=100)\n",
    "x = np.array(range(1000))\n",
    "y = np.array(range(1000,0,-1))\n",
    "z = np.array([i**2 for i in range(1000)])\n",
    "print(len(x))\n",
    "f.scatter(x, y, z, c=z, s=2)\n",
    "f.set_xlabel('length')\n",
    "f.set_ylabel('time')\n",
    "f.set_zlabel('robustness')\n",
    "plt.show()"
   ]
  },
  {
   "cell_type": "code",
   "execution_count": null,
   "metadata": {},
   "outputs": [],
   "source": []
  },
  {
   "cell_type": "code",
   "execution_count": null,
   "metadata": {},
   "outputs": [],
   "source": [
    "\n",
    "profile = cProfile.Profile()\n",
    "profile.enable()\n",
    "df_pop, df_stats = read_experiment(engine, verbose=True)\n",
    "profile.disable()\n",
    "print(\"read all\")\n",
    "\n",
    "df_pop[\"model_name\"] = df_pop.apply(lambda row: Vehicle(row.model).name, axis = 1)\n",
    "df_stats[\"model_name\"] = df_pop.apply(lambda row: Vehicle(row.model).name, axis = 1)\n",
    "\n",
    "\n",
    "\n",
    "plt.close('all')"
   ]
  },
  {
   "cell_type": "raw",
   "metadata": {},
   "source": [
    "stats = pstats.Stats(profile)\n",
    "stats.sort_stats(\"cumtime\")\n",
    "stats.print_stats()"
   ]
  },
  {
   "cell_type": "code",
   "execution_count": null,
   "metadata": {},
   "outputs": [],
   "source": [
    "df_pop.head()"
   ]
  },
  {
   "cell_type": "code",
   "execution_count": null,
   "metadata": {},
   "outputs": [],
   "source": [
    "sns.relplot(data=df_stats, x=\"generation\", y=\"hv\", col=\"n_waypoints\", hue=\"map_name\", style=\"map_name\", kind=\"line\", ci=90, estimator=np.median, height=3, alpha=0.3, legend=False)\n",
    "plt.show()"
   ]
  },
  {
   "cell_type": "code",
   "execution_count": null,
   "metadata": {},
   "outputs": [],
   "source": [
    "plt.figure()\n",
    "sns.relplot(data=df_pop.loc[df_pop.group.eq('circle') & df_pop.feasible & df_pop.experiment_front], kind=\"scatter\", hue=\"robustness\", x=\"length\", y=\"time\", col=\"n_waypoints\", row=\"model_name\")\n",
    "plt.show()"
   ]
  },
  {
   "cell_type": "code",
   "execution_count": null,
   "metadata": {},
   "outputs": [],
   "source": [
    "plt.close('all')\n",
    "f = plt.figure().gca(projection='3d')\n",
    "data=df_pop.loc[df_pop.group.eq('circle') & df_pop.n_agents.eq(3) & df_pop.n_waypoints.eq(2) & df_pop.model.eq(6) & df_pop.feasible & df_pop.experiment_front]\n",
    "x = np.array(data[\"length\"])\n",
    "y = np.array(data[\"time\"])\n",
    "z = np.array(data[\"robustness\"])\n",
    "print(len(x))\n",
    "f.scatter(x, y, z, c=z, s=2)\n",
    "f.set_xlabel('length')\n",
    "f.set_ylabel('time')\n",
    "f.set_zlabel('robustness')\n",
    "plt.show()"
   ]
  },
  {
   "cell_type": "code",
   "execution_count": null,
   "metadata": {},
   "outputs": [],
   "source": [
    "plt.close(\"all\")\n",
    "# plot in paper, do not delete!\n",
    "for i in df_stats.n_waypoints.unique():\n",
    "    for j in df_stats.n_agents.unique():\n",
    "        plt.figure(figsize=(3, 2.5))\n",
    "        ax = sns.lineplot(data=df_stats.loc[df_stats.group.eq(\"all\") & df_stats.model.eq(1) & df_stats.n_agents.eq(j) & df_stats.n_waypoints.eq(i)], x=\"generation\", y=\"hv\", hue=\"map_name\", style=\"map_name\", ci=90, estimator=np.median, alpha=0.3, legend=False)\n",
    "        plt.ylim((0,10000))\n",
    "        #ylim((0,10000))\n",
    "        print(f\"fig/Dubins-{j}_agents-{i}_waypoints.pdf\")\n",
    "        \n",
    "        plt.tight_layout()\n",
    "        plt.savefig(f\"fig/Dubins-{j}_agents-{i}_waypoints.pdf\")\n",
    "        plt.show()"
   ]
  },
  {
   "cell_type": "code",
   "execution_count": null,
   "metadata": {},
   "outputs": [],
   "source": [
    "# plot in paper, do not delete!\n",
    "sns.relplot(data=df_pop.loc[df_pop.group.eq(\"all\") & df_pop.model.eq(1) & df_pop.n_agents.eq(7) & df_pop.experiment_front], x=\"robustness\", y=\"flowtime\", col=\"n_waypoints\", hue=\"map_name\", style=\"map_name\", height=3, alpha=0.3, legend=False)\n",
    "plt.show()"
   ]
  },
  {
   "cell_type": "code",
   "execution_count": null,
   "metadata": {},
   "outputs": [],
   "source": [
    "# plot in paper, do not delete!\n",
    "df_pop[\"$n$\"] = df_pop.n_waypoints.astype(\"category\")\n",
    "for n in df_pop.n_agents.unique():\n",
    "    plt.figure(figsize=(3,2.5))\n",
    "    x = df_pop.loc[df_pop.group.eq(\"all\") & df_pop.model.eq(1) & df_pop.n_agents.eq(n) & df_pop.experiment_front & df_pop.map_name.eq(\"cross.obstacles.npy\")]\n",
    "    ax = sns.scatterplot(data=x.loc[x[\"n_waypoints\"] % 2 == 1], x=\"robustness\", y=\"flowtime\", hue=\"$n$\", style=\"$n$\", alpha=0.3)\n",
    "    ax.set(xlabel='$f_R^*$', ylabel='$f_L$')\n",
    "    plt.tight_layout()\n",
    "    plt.savefig(f\"dubins_waypoints_{n}_agents.pdf\")\n",
    "    plt.show()\n",
    "    \n",
    "plt.close(\"all\")"
   ]
  },
  {
   "cell_type": "code",
   "execution_count": null,
   "metadata": {},
   "outputs": [],
   "source": [
    "df = df_stats.loc[df_stats.generation.eq(390) & df_stats.model.eq(1)]\n",
    "from scipy.stats import iqr\n",
    "\n",
    "def median(x):\n",
    "    median = int(np.median(x))\n",
    "    i = int(iqr(x))\n",
    "    return f\"{median}\\\\tiny{{({i})}}\"\n",
    "\n",
    "df[\"env\"] = df[\"map_name\"]\n",
    "df[\"$n$\"] = df[\"n_waypoints\"]\n",
    "df[\"$k$\"] = df[\"n_agents\"]\n",
    "x = df.groupby([\"env\", \"$n$\", \"$k$\"]).agg(median)\n",
    "x = x.loc[:, [\"hv\"]].unstack()\n",
    "x.to_latex(\"table.tex\", escape=False)\n",
    "display.HTML(\n",
    "    x.to_html()\n",
    ")"
   ]
  },
  {
   "cell_type": "code",
   "execution_count": null,
   "metadata": {},
   "outputs": [],
   "source": [
    "df = df_stats.loc[df_stats.generation.eq(390) & df_stats.n_waypoints.eq(3)]\n",
    "from scipy.stats import iqr\n",
    "\n",
    "def median(x):\n",
    "    median = int(np.median(x))\n",
    "    i = int(iqr(x))\n",
    "    return f\"{median}\\\\tiny{{({i})}}\"\n",
    "\n",
    "df[\"env\"] = df[\"map_name\"]\n",
    "df[\"$k$\"] = df[\"n_agents\"]\n",
    "x = df.groupby([\"env\", \"model_name\", \"$k$\"]).agg(median)\n",
    "x = x.loc[:, [\"hv\"]].unstack()\n",
    "x.to_latex(\"table_model.tex\", escape=False)\n",
    "display.HTML(\n",
    "    x.to_html()\n",
    ")"
   ]
  },
  {
   "cell_type": "code",
   "execution_count": null,
   "metadata": {},
   "outputs": [],
   "source": [
    "# plot in paper, do not delete!\n",
    "plt.close(\"all\")\n",
    "#df_pop[\"model_name\"] = df_pop.apply(lambda row: Vehicle(row.model).name, axis = 1)\n",
    "\n",
    "df_pop.model_name = df_pop[\"model_name\"].astype(\"category\")\n",
    "\n",
    "for i in df_pop.map_name.unique():\n",
    "    plt.figure(figsize=(4.75, 2.5))\n",
    "    ax = sns.scatterplot(data=df_pop.loc[df_pop.group.eq(\"all\") & df_pop.n_agents.eq(7) & df_pop.n_waypoints.eq(3) & df_pop.experiment_front & df_pop.map_name.eq(i)],\n",
    "                         x=\"robustness\", y=\"flowtime\", hue=\"model_name\", style=\"model_name\", hue_order=[\"BEZIER\", \"DUBINS\", \"STRAIGHT\", \"REEDS_SHEPP\",\"RTR\"], alpha=0.3, legend='brief')\n",
    "    ax.legend(loc='center left', bbox_to_anchor=(1.005, 0.5), ncol=1)\n",
    "    ax.set(xlabel='$f_R^*$', ylabel='$f_L$')\n",
    "    plt.tight_layout()\n",
    "    plt.savefig(f\"fronts/{i}.pdf\")\n",
    "    plt.show()"
   ]
  },
  {
   "cell_type": "code",
   "execution_count": null,
   "metadata": {},
   "outputs": [],
   "source": [
    "# plot in paper, do not delete!\n",
    "sns.relplot(data=df_stats.loc[df_stats.group.eq(\"all\") & df_stats.n_waypoints.eq(3) & df_stats.n_agents.eq(7)], x=\"generation\", y=\"hv\", col=\"model\", hue=\"map_name\", style=\"map_name\", kind=\"line\", ci=90, estimator=np.median, height=3, alpha=0.3, legend=False)"
   ]
  },
  {
   "cell_type": "code",
   "execution_count": null,
   "metadata": {},
   "outputs": [],
   "source": [
    "# plot in paper, do not delete!\n",
    "sns.relplot(data=df_stats.loc[df_stats.group.eq(\"all\") & df_stats.model.eq(1) & df_stats.n_waypoints.eq(3)], x=\"generation\", y=\"hv\", col=\"n_agents\", hue=\"map_name\", style=\"map_name\", kind=\"line\", ci=90, estimator=np.median, height=3, alpha=0.3, legend=False)"
   ]
  },
  {
   "cell_type": "code",
   "execution_count": null,
   "metadata": {},
   "outputs": [],
   "source": [
    "plt.close(\"all\")"
   ]
  },
  {
   "cell_type": "code",
   "execution_count": null,
   "metadata": {},
   "outputs": [],
   "source": [
    "for m_name in df_pop.map_name.unique():\n",
    "    x = df_pop.loc[df_pop.n_agents.eq(7) & df_pop.model.eq(1) & df_pop.n_waypoints.eq(3) & df_pop.experiment_front & df_pop.map_name.eq(m_name)].sort_values(by=\"robustness\")\n",
    "    \n",
    "    plt.figure(figsize=(2.5,2.5))\n",
    "    plot_indivdual(x.iloc[0], animation=False, df_jobs=df_jobs, show=False)#, animation_file=f\"{x['model']}.mp4\")\n",
    "    plt.savefig(f\"solutions/dubins_best_{m_name}.pdf\")\n",
    "    plt.show()\n",
    "    \n",
    "    plt.figure(figsize=(2.5,2.5))\n",
    "    h = int(len(x) / 2)\n",
    "    plot_indivdual(x.iloc[h], animation=False, df_jobs=df_jobs, show=False)#, animation_file=f\"{x['model']}.mp4\")\n",
    "    plt.savefig(f\"solutions/dubins_middle_{m_name}.pdf\")\n",
    "    plt.show()\n",
    "\n",
    "    plt.figure(figsize=(2.5,2.5))\n",
    "    plot_indivdual(x.iloc[-1], animation=False, df_jobs=df_jobs, show=False)#, animation_file=f\"{x['model']}.mp4\")\n",
    "    plt.savefig(f\"solutions/dubins_worst_{m_name}.pdf\")\n",
    "    plt.show()\n",
    "    \n",
    "    "
   ]
  },
  {
   "cell_type": "code",
   "execution_count": null,
   "metadata": {},
   "outputs": [],
   "source": [
    "def plot_indivdual(row, df_jobs=None, plot=True, animation=False, animation_file=None, show=True):\n",
    "    \"\"\"creates a plot from the individual in resulting dataframe\"\"\"\n",
    "    settings = fetch_settings(df_jobs, job_index=row['job_index'])\n",
    "    ex = Experiment(settings)\n",
    "    ex.setup()\n",
    "    ind = json.loads(row['value'])\n",
    "    if plot:\n",
    "        ex.problem.solution_plot(ind, show=show)\n",
    "        ax = plt.gca()\n",
    "        ax.set_xticks([])\n",
    "        ax.set_yticks([])\n",
    "        ax.set_xlabel(None)\n",
    "        ax.set_ylabel(None)\n",
    "        plt.title(f\"$f_R^*={row['robustness']:.1f}$, $f_L={row['flowtime']:.1f}$, $k={row['n_agents']}$, $n={row['n_waypoints']}$\")\n",
    "        plt.tight_layout()\n",
    "    if animation:\n",
    "        ex.problem.solution_animation(ind, filename=animation_file)\n",
    "    return settings, ex\n",
    "    \n",
    "    "
   ]
  },
  {
   "cell_type": "code",
   "execution_count": null,
   "metadata": {},
   "outputs": [],
   "source": [
    "plt.close(\"all\")"
   ]
  },
  {
   "cell_type": "code",
   "execution_count": null,
   "metadata": {},
   "outputs": [],
   "source": []
  }
 ],
 "metadata": {
  "kernelspec": {
   "display_name": "Python 3",
   "language": "python",
   "name": "python3"
  },
  "language_info": {
   "codemirror_mode": {
    "name": "ipython",
    "version": 3
   },
   "file_extension": ".py",
   "mimetype": "text/x-python",
   "name": "python",
   "nbconvert_exporter": "python",
   "pygments_lexer": "ipython3",
   "version": "3.8.5"
  }
 },
 "nbformat": 4,
 "nbformat_minor": 4
}
