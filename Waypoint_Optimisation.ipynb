{
 "cells": [
  {
   "cell_type": "markdown",
   "metadata": {},
   "source": [
    "# Multi Objective Multi Agent Pathfinding Subject to Vehicle Models\n",
    "\n",
    "## Overview\n",
    "- loading packages\n",
    "- Performing single runs\n",
    "- Visualizing single runs\n",
    "- Visualising multiple runs from the DB\n",
    "- Running multiple experiments and saving to DB\n",
    "\n",
    "## Objectives\n",
    "- Makespan: Number of steps of the longest path\n",
    "- Flowtime: Mean number of steps for all agents\n",
    "- Robustness:\n",
    "  * Positive: Shortest distance \n",
    "    * of an agent to other agents\n",
    "    * half the distance to the wall\n",
    "    * reasoning: an agent has radius r and the bigger r could be the better, min distance between two agents is twice agents to wall\n",
    "  * Negative: In case an agent crosses through an obstacle fraction of the infeasible steps"
   ]
  },
  {
   "cell_type": "code",
   "execution_count": null,
   "metadata": {
    "jupyter": {
     "outputs_hidden": true
    }
   },
   "outputs": [],
   "source": [
    "%pip install --upgrade pip \n",
    "%pip install --upgrade numpy dubins deap matplotlib pandas ipympl seaborn ipywidgets sqlalchemy gitpython nbstripout pre-commit"
   ]
  },
  {
   "cell_type": "code",
   "execution_count": null,
   "metadata": {},
   "outputs": [],
   "source": [
    "%matplotlib widget\n",
    "\n",
    "import numpy as np\n",
    "import matplotlib.pyplot as plt\n",
    "from matplotlib import rc, animation\n",
    "import itertools\n",
    "from IPython.display import display\n",
    "import pandas as pd\n",
    "import seaborn as sns\n",
    "import cProfile\n",
    "import pstats\n",
    "\n",
    "import ipywidgets as widgets\n",
    "\n",
    "from deap import base, creator, tools, algorithms\n",
    "\n",
    "rc(\"animation\", html=\"jshtml\")\n",
    "\n",
    "from path import *\n",
    "from obstacle_map import *\n",
    "from problem import *\n",
    "from experiment import *\n",
    "\n",
    "import sqlalchemy\n",
    "\n",
    "engine = sqlalchemy.create_engine('sqlite:///experiments.db')"
   ]
  },
  {
   "cell_type": "markdown",
   "metadata": {},
   "source": [
    "## Running the Algorithm"
   ]
  },
  {
   "cell_type": "code",
   "execution_count": null,
   "metadata": {},
   "outputs": [],
   "source": [
    "settings = {\n",
    "    'radius': 10, # turning radius (dubins vehicle)\n",
    "    'model': Vehicle.DUBINS, # vehicle model\n",
    "    'step': 1, # step size for simulated behaviour\n",
    "    'domain': (0, 200.0), # area of operation (-100, 100) means that the vehicles will move in a square from (x=-100, y=-100) to (x=100, y=100)\n",
    "    'n_agents': 5, # number of agents\n",
    "    'n_waypoints': 3, # waypoints per agent (excluding start and end)\n",
    "    'n_gens': 100, # number of generations to run the algorithm\n",
    "    'population_size': 4*10, # population size for the algorithm, shoulod be divisible by 4 for nsga2\n",
    "    'cxpb': 0.3, # crossover probablity\n",
    "    'mutpb': 1.0, # mutation rate (not applicable in nsga2)\n",
    "    'mutation_p': (1.0, 4.0, 5.0), # distribution of mutation types\n",
    "    'sigma' : 0.2, # sigma for gauss-distribution in waypoint-gauss-mutation\n",
    "    'feasiblity_threshold': 95, # how robust a solution has to be to be regarded feasible (100-min_dist)\n",
    "    'offset': (0, 0), # offset of the map to the agents\n",
    "    'map_name': \"cross.obstacles.npy\", # name of the obstacle-map file\n",
    "    'metric': Metric.MIXED, # metric to use in fitness calculation\n",
    "}"
   ]
  },
  {
   "cell_type": "code",
   "execution_count": null,
   "metadata": {},
   "outputs": [],
   "source": [
    "profiling = False\n",
    "experiment = Experiment(settings) # load the settings\n",
    "experiment.setup() # setup population and deap-toolbox\n",
    "experiment.seed(42)\n",
    "if profiling:\n",
    "    profile = cProfile.Profile()\n",
    "    profile.enable()\n",
    "pop, logbook = experiment.run() # start running :)\n",
    "if profiling:\n",
    "    profile.disable()"
   ]
  },
  {
   "cell_type": "code",
   "execution_count": null,
   "metadata": {},
   "outputs": [],
   "source": [
    "if profiling:\n",
    "    stats = pstats.Stats(profile)\n",
    "    stats.sort_stats(\"tottime\")\n",
    "    stats.print_stats()"
   ]
  },
  {
   "cell_type": "markdown",
   "metadata": {},
   "source": [
    "## Visualization of single runs\n",
    "\n",
    "- plot general data\n",
    "- plot best solutions\n",
    "- animation for best solution (use filename=\"FOO.mp4\" to save a video file)\n",
    "- visualize mutation and crossover operators"
   ]
  },
  {
   "cell_type": "code",
   "execution_count": null,
   "metadata": {},
   "outputs": [],
   "source": [
    "# select 5 best individuals (non-dominated sorting)\n",
    "best = experiment.toolbox.select(pop, 5)"
   ]
  },
  {
   "cell_type": "code",
   "execution_count": null,
   "metadata": {},
   "outputs": [],
   "source": [
    "for ind in best:\n",
    "    print(ind.fitness.values)\n",
    "    experiment.problem.solution_plot(ind, plot_range=range(0, 200))"
   ]
  },
  {
   "cell_type": "code",
   "execution_count": null,
   "metadata": {
    "jupyter": {
     "outputs_hidden": true
    }
   },
   "outputs": [],
   "source": [
    "for i, sol in enumerate(best):\n",
    "    experiment.problem.solution_animation(sol, plot_range=range(0,200))#, filename=f\"with_obstancle_{i}.mp4\")"
   ]
  },
  {
   "cell_type": "code",
   "execution_count": null,
   "metadata": {
    "jupyter": {
     "outputs_hidden": true
    }
   },
   "outputs": [],
   "source": [
    "sol = toolbox.individual()\n",
    "problem.solution_plot(sol, plot_range=range(0, 200))\n",
    "print(sol)\n",
    "print(problem.encode(problem.decode(sol)))\n",
    "\n",
    "problem.uniform_mutation(sol, debug = True)\n",
    "print(sol)\n",
    "problem.solution_plot(sol, plot_range=range(0, 200))\n",
    "problem.mutate(sol)\n",
    "problem.solution_plot(sol, plot_range=range(0, 200))\n",
    "problem.skip_mutation(sol, debug=True)\n",
    "problem.solution_plot(sol, plot_range=range(0, 200))\n",
    "#problem.waypoints_to_path(problem.decode(sol))"
   ]
  },
  {
   "cell_type": "code",
   "execution_count": null,
   "metadata": {},
   "outputs": [],
   "source": [
    "plt.close('all')"
   ]
  },
  {
   "cell_type": "markdown",
   "metadata": {},
   "source": [
    "## Saving and Visualisation - Multiple runs with DB\n",
    "\n",
    "* works with `sqlalchemy` package and `sqlite` in dev environment\n",
    "* currently uses `experiments.db` saved to `engine` variable\n",
    "* adding and removing jobs to the db\n",
    "* running jobs\n",
    "* visualisation"
   ]
  },
  {
   "cell_type": "code",
   "execution_count": null,
   "metadata": {},
   "outputs": [],
   "source": [
    "settings = {\n",
    "    'radius': 10,\n",
    "    'step': 1,\n",
    "    'domain': (0, 200.0),\n",
    "    'n_agents': 5,\n",
    "    'n_waypoints': 3,\n",
    "    'n_gens': 500,\n",
    "    'population_size': 4*25,\n",
    "    'cxpb': 0.3,\n",
    "    'mutpb': 1.0,\n",
    "    'mutation_p': (1.0, 4.0, 5.0),\n",
    "    'sigma' : 0.2,\n",
    "    'model': Vehicle.DUBINS,\n",
    "    'feasiblity_threshold': 95,\n",
    "    'offset': (0, 0),\n",
    "    'map_name': \"cross.obstacles.npy\",\n",
    "    'metric': Metric.MIXED,\n",
    "}\n",
    "\n",
    "job_settings = {\n",
    "    \"delete\" : True,\n",
    "    \"runs\" : 31,\n",
    "    \"name\" : \"baseline\",\n",
    "    \"user\" : \"basti\",\n",
    "    \"db\" : engine,\n",
    "}\n",
    "add_jobs_to_db(settings, **job_settings)\n",
    "job_settings['delete'] = False\n",
    "\n",
    "#job_settings['name'] = \"straight\"\n",
    "#settings['model'] = Vehicle.STRAIGHT\n",
    "#add_jobs_to_db(settings, **job_settings)\n",
    "#settings['model'] = Vehicle.DUBINS\n",
    "settings['metric'] = Metric.MIN\n",
    "job_settings['name'] = \"min_metric\"\n",
    "add_jobs_to_db(settings, **job_settings)\n",
    "\n",
    "settings['metric'] = Metric.MEAN\n",
    "job_settings['name'] = \"mean_metric\"\n",
    "add_jobs_to_db(settings, **job_settings)\n",
    "settings['metric'] = Metric.MIXED\n"
   ]
  },
  {
   "cell_type": "code",
   "execution_count": null,
   "metadata": {},
   "outputs": [],
   "source": [
    "df_jobs = pd.read_sql_table(\"jobs\", con=engine)\n",
    "for status in range(3):\n",
    "    print(f\"status {status}: {len(df_jobs.loc[df_jobs.status == status])}\")\n",
    "df_jobs.head(10)"
   ]
  },
  {
   "cell_type": "code",
   "execution_count": null,
   "metadata": {
    "jupyter": {
     "outputs_hidden": true
    }
   },
   "outputs": [],
   "source": [
    "runner = ExperimentRunner(engine)\n",
    "running = True\n",
    "while running:\n",
    "    running = runner.fetch_and_execute()\n",
    "    "
   ]
  },
  {
   "cell_type": "code",
   "execution_count": null,
   "metadata": {
    "jupyter": {
     "source_hidden": true
    }
   },
   "outputs": [],
   "source": [
    "df_pop = pd.read_sql(\"populations\", con=engine)\n",
    "plt.figure()\n",
    "sns.scatterplot(data=df_pop, x=\"robustness\", y=\"flowtime\", palette=None, hue=\"crowding_distance\", style=\"non_dominated\", size_order=[True, False], size=\"non_dominated\")\n",
    "plt.show()"
   ]
  },
  {
   "cell_type": "code",
   "execution_count": null,
   "metadata": {},
   "outputs": [],
   "source": [
    "\n",
    "df_jobs = pd.read_sql_table(\"jobs\", con=engine)\n",
    "for status in range(3):\n",
    "    print(f\"status {status}: {len(df_jobs.loc[df_jobs.status == status])}\")\n",
    "\n",
    "    \n",
    "def get_names(db):\n",
    "    df_pop = pd.read_sql(\"populations\", con=db)\n",
    "    print(df_pop[\"experiment\"].unique())\n",
    "    \n",
    "def read_experiment(db, name=None):\n",
    "    df_pop = pd.read_sql(\"populations\", con=db)\n",
    "    df_stats = pd.read_sql(\"logbooks\", con=db)\n",
    "    if name is not None:\n",
    "        return df_pop.loc[df_pop['experiment']==name], df_stats.loc[df_stats['experiment']==name]\n",
    "    return df_pop, df_stats\n",
    "\n",
    "def fetch_settings(df_jobs, job_index=None):\n",
    "    assert(job_index is not None)\n",
    "    row = df_jobs.loc[df_jobs.index == job_index]\n",
    "    s = row.iloc[0]\n",
    "    return pickle.loads(s[\"settings\"])\n",
    "\n",
    "def plot_indivdual(row, df_jobs=df_jobs, plot=True, animation=False, animation_file=None):\n",
    "    settings = fetch_settings(df_jobs, job_index=row['job_index'])\n",
    "    ex = Experiment(settings)\n",
    "    ex.setup()\n",
    "    ind = pickle.loads(row['value'])\n",
    "    if plot:\n",
    "        ex.problem.solution_plot(ind)\n",
    "    if animation:\n",
    "        ex.problem.solution_animation(ind, filename=animation_file)\n",
    "    return settings, ex\n",
    "\n",
    "df_pop, df_stats = read_experiment(engine)\n",
    "plt.close('all')"
   ]
  },
  {
   "cell_type": "code",
   "execution_count": null,
   "metadata": {},
   "outputs": [],
   "source": [
    "# plot one run makespan-flowtime trade-off with non dominated solutions highlighted\n",
    "plt.figure()\n",
    "sns.scatterplot(data=df_pop.loc[df_pop['experiment']==\"baseline\"], x=\"makespan\", y=\"flowtime\", hue=\"robustness\", style=\"non_dominated\", size_order=[True, False], size=\"non_dominated\")\n",
    "plt.show()"
   ]
  },
  {
   "cell_type": "code",
   "execution_count": null,
   "metadata": {},
   "outputs": [],
   "source": [
    "# plot non dominted solutions for all runs\n",
    "plt.figure()\n",
    "sns.scatterplot(data=df_pop.loc[df_pop[\"non_dominated\"]], x=\"robustness\", y=\"flowtime\", hue=\"experiment\")#, palette=\"jet\")\n",
    "plt.show()"
   ]
  },
  {
   "cell_type": "code",
   "execution_count": null,
   "metadata": {},
   "outputs": [],
   "source": [
    "# plot one run makespan-flowtime trade-off with non dominated solutions highlighted\n",
    "plt.figure()\n",
    "sns.scatterplot(data=df_pop.loc[df_pop[\"experiment\"]==\"baseline\"], x=\"robustness\", y=\"flowtime\", hue=\"crowding_distance\", palette=\"plasma_r\", style=\"non_dominated\", size_order=[True, False], size=\"non_dominated\")\n",
    "plt.show()"
   ]
  },
  {
   "cell_type": "code",
   "execution_count": null,
   "metadata": {},
   "outputs": [],
   "source": [
    "df_non_dom = df_pop.loc[df_pop[\"experiment\"]==\"baseline\"].sort_values(\"robustness\", ascending=True)\n",
    "for i, row in df_non_dom[:5].iterrows():\n",
    "    display(row)\n",
    "    plot_indivdual(row, df_jobs=df_jobs, plot=True, animation=True)\n"
   ]
  },
  {
   "cell_type": "code",
   "execution_count": null,
   "metadata": {},
   "outputs": [],
   "source": [
    "import traceback\n",
    "traceback.print_last()"
   ]
  },
  {
   "cell_type": "code",
   "execution_count": null,
   "metadata": {},
   "outputs": [],
   "source": []
  },
  {
   "cell_type": "code",
   "execution_count": null,
   "metadata": {},
   "outputs": [],
   "source": [
    "def logbook_to_df(logbook):\n",
    "    data = []\n",
    "    evals = 0\n",
    "    for log in logbook:\n",
    "        evals += log['evals']\n",
    "        data_i = {\n",
    "            \"generation\": log['gen'],\n",
    "            \"evals\": evals,\n",
    "        }\n",
    "        for i, _ in enumerate(log['median']):\n",
    "            data_i[f\"f_{i}_median\"] = log['median'][i]\n",
    "            data_i[f\"f_{i}_min\"] = log['min'][i]\n",
    "            data_i[f\"f_{i}_max\"] = log['max'][i]\n",
    "        data.append(data_i)\n",
    "    return pd.DataFrame(data)\n",
    "    \n",
    "df_log = logbook_to_df(logbook)\n",
    "df_log"
   ]
  },
  {
   "cell_type": "code",
   "execution_count": null,
   "metadata": {},
   "outputs": [],
   "source": [
    "plt.figure()\n",
    "sns.lineplot(data=df_log, x=\"generation\", y=\"f_0_median\")\n",
    "plt.show()\n",
    "plt.figure()\n",
    "sns.lineplot(data=df_log, x=\"generation\", y=\"f_1_median\")\n",
    "plt.show()"
   ]
  },
  {
   "cell_type": "code",
   "execution_count": null,
   "metadata": {},
   "outputs": [],
   "source": []
  },
  {
   "cell_type": "code",
   "execution_count": null,
   "metadata": {},
   "outputs": [],
   "source": [
    "JobStatus"
   ]
  },
  {
   "cell_type": "code",
   "execution_count": null,
   "metadata": {},
   "outputs": [],
   "source": [
    "for s in JobStatus:\n",
    "    print(s)"
   ]
  },
  {
   "cell_type": "code",
   "execution_count": null,
   "metadata": {},
   "outputs": [],
   "source": []
  }
 ],
 "metadata": {
  "kernelspec": {
   "display_name": "Python 3",
   "language": "python",
   "name": "python3"
  },
  "language_info": {
   "codemirror_mode": {
    "name": "ipython",
    "version": 3
   },
   "file_extension": ".py",
   "mimetype": "text/x-python",
   "name": "python",
   "nbconvert_exporter": "python",
   "pygments_lexer": "ipython3",
   "version": "3.8.1"
  }
 },
 "nbformat": 4,
 "nbformat_minor": 4
}
