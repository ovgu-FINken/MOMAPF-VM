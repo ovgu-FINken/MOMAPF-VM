{
 "cells": [
  {
   "cell_type": "markdown",
   "metadata": {},
   "source": [
    "# Multi Objective Multi Agent Pathfinding Subject to Vehicle Models\n",
    "\n",
    "## Overview\n",
    "- loading packages\n",
    "- Performing single runs\n",
    "- Visualizing single runs\n",
    "- Visualising multiple runs from the DB\n",
    "- Running multiple experiments and saving to DB\n",
    "\n",
    "## Objectives\n",
    "- Makespan: Number of steps of the longest path\n",
    "- Flowtime: Mean number of steps for all agents\n",
    "- Robustness:\n",
    "  * Positive: Shortest distance \n",
    "    * of an agent to other agents\n",
    "    * half the distance to the wall\n",
    "    * reasoning: an agent has radius r and the bigger r could be the better, min distance between two agents is twice agents to wall\n",
    "  * Negative: In case an agent crosses through an obstacle fraction of the infeasible steps"
   ]
  },
  {
   "cell_type": "code",
   "execution_count": null,
   "metadata": {},
   "outputs": [],
   "source": [
    "%pip install --upgrade pip \n",
    "%pip install --upgrade numpy dubins deap matplotlib pandas ipympl seaborn ipywidgets sqlalchemy gitpython nbstripout pre-commit"
   ]
  },
  {
   "cell_type": "code",
   "execution_count": null,
   "metadata": {},
   "outputs": [],
   "source": [
    "%matplotlib widget\n",
    "\n",
    "import numpy as np\n",
    "import matplotlib.pyplot as plt\n",
    "from matplotlib import rc, animation\n",
    "import itertools\n",
    "from IPython.display import display\n",
    "import pandas as pd\n",
    "import seaborn as sns\n",
    "import cProfile\n",
    "import pstats\n",
    "\n",
    "import ipywidgets as widgets\n",
    "\n",
    "from deap import base, creator, tools, algorithms\n",
    "\n",
    "rc(\"animation\", html=\"jshtml\")\n",
    "\n",
    "from path import *\n",
    "from obstacle_map import *\n",
    "from problem import *\n",
    "from experiment import *\n",
    "\n",
    "import sqlalchemy\n",
    "\n",
    "engine = sqlalchemy.create_engine(get_key(filename=\"db.key\"))"
   ]
  },
  {
   "cell_type": "markdown",
   "metadata": {},
   "source": [
    "## Running the Algorithm"
   ]
  },
  {
   "cell_type": "code",
   "execution_count": null,
   "metadata": {},
   "outputs": [],
   "source": [
    "settings = {\n",
    "    'radius': 10, # turning radius (dubins vehicle)\n",
    "    'model': Vehicle.DUBINS, # vehicle model\n",
    "    'step': 1, # step size for simulated behaviour\n",
    "    'domain': (0, 200.0), # area of operation (-100, 100) means that the vehicles will move in a square from (x=-100, y=-100) to (x=100, y=100)\n",
    "    'n_agents': 5, # number of agents\n",
    "    'n_waypoints': 3, # waypoints per agent (excluding start and end)\n",
    "    'n_gens': 100, # number of generations to run the algorithm\n",
    "    'population_size': 4*10, # population size for the algorithm, shoulod be divisible by 4 for nsga2\n",
    "    'cxpb': .5, # crossover probablity\n",
    "    'mutpb': .5, # mutation rate (not applicable in nsga2)\n",
    "    'mutation_p': (1.0, 4.0, 5.0), # distribution of mutation types\n",
    "    'sigma' : 0.2, # sigma for gauss-distribution in waypoint-gauss-mutation\n",
    "    'feasiblity_threshold': 95, # how robust a solution has to be to be regarded feasible (100-min_dist)\n",
    "    'offset': (0, 0), # offset of the map to the agents\n",
    "    'map_name': \"cross.obstacles.npy\", # name of the obstacle-map file\n",
    "    'metric': Metric.MIXED, # metric to use in fitness calculation\n",
    "    'hv_ref': (100, 400), # reference for hyper volume\n",
    "}"
   ]
  },
  {
   "cell_type": "code",
   "execution_count": null,
   "metadata": {},
   "outputs": [],
   "source": [
    "profiling = False\n",
    "experiment = Experiment(settings) # load the settings\n",
    "experiment.setup() # setup population and deap-toolbox\n",
    "experiment.seed(42)\n",
    "if profiling:\n",
    "    profile = cProfile.Profile()\n",
    "    profile.enable()\n",
    "pop, logbook = experiment.run(verbose=True) # start running :)\n",
    "if profiling:\n",
    "    profile.disable()"
   ]
  },
  {
   "cell_type": "code",
   "execution_count": null,
   "metadata": {},
   "outputs": [],
   "source": [
    "if profiling:\n",
    "    stats = pstats.Stats(profile)\n",
    "    stats.sort_stats(\"tottime\")\n",
    "    stats.print_stats()"
   ]
  },
  {
   "cell_type": "markdown",
   "metadata": {},
   "source": [
    "## Visualization of single runs\n",
    "\n",
    "- plot general data\n",
    "- plot best solutions\n",
    "- animation for best solution (use filename=\"FOO.mp4\" to save a video file)\n",
    "- visualize mutation and crossover operators"
   ]
  },
  {
   "cell_type": "code",
   "execution_count": null,
   "metadata": {},
   "outputs": [],
   "source": [
    "# select 5 best individuals (non-dominated sorting)\n",
    "best = experiment.toolbox.select(pop, 5)"
   ]
  },
  {
   "cell_type": "code",
   "execution_count": null,
   "metadata": {},
   "outputs": [],
   "source": [
    "for ind in best:\n",
    "    print(ind.fitness.values)\n",
    "    experiment.problem.solution_plot(ind, plot_range=range(0, 200))"
   ]
  },
  {
   "cell_type": "code",
   "execution_count": null,
   "metadata": {
    "jupyter": {
     "outputs_hidden": true
    }
   },
   "outputs": [],
   "source": [
    "for i, sol in enumerate(best):\n",
    "    experiment.problem.solution_animation(sol, plot_range=range(0,200))#, filename=f\"with_obstancle_{i}.mp4\")"
   ]
  },
  {
   "cell_type": "code",
   "execution_count": null,
   "metadata": {
    "jupyter": {
     "outputs_hidden": true
    }
   },
   "outputs": [],
   "source": [
    "sol = toolbox.individual()\n",
    "problem.solution_plot(sol, plot_range=range(0, 200))\n",
    "print(sol)\n",
    "print(problem.encode(problem.decode(sol)))\n",
    "\n",
    "problem.uniform_mutation(sol, debug = True)\n",
    "print(sol)\n",
    "problem.solution_plot(sol, plot_range=range(0, 200))\n",
    "problem.mutate(sol)\n",
    "problem.solution_plot(sol, plot_range=range(0, 200))\n",
    "problem.skip_mutation(sol, debug=True)\n",
    "problem.solution_plot(sol, plot_range=range(0, 200))\n",
    "#problem.waypoints_to_path(problem.decode(sol))"
   ]
  },
  {
   "cell_type": "code",
   "execution_count": null,
   "metadata": {},
   "outputs": [],
   "source": [
    "plt.close('all')"
   ]
  },
  {
   "cell_type": "markdown",
   "metadata": {},
   "source": [
    "## Saving and Visualisation - Multiple runs with DB\n",
    "\n",
    "* works with `sqlalchemy` package and `sqlite` in dev environment\n",
    "* currently uses `experiments.db` saved to `engine` variable\n",
    "* adding and removing jobs to the db\n",
    "* running jobs\n",
    "* visualisation"
   ]
  },
  {
   "cell_type": "code",
   "execution_count": null,
   "metadata": {},
   "outputs": [],
   "source": [
    "settings = {\n",
    "    'radius': 10,\n",
    "    'step': 1,\n",
    "    'domain': (0, 200.0),\n",
    "    'n_agents': 5,\n",
    "    'n_waypoints': 3,\n",
    "    'n_gens': 500,\n",
    "    'population_size': 4*25,\n",
    "    'cxpb': 0.3,\n",
    "    'mutpb': 1.0,\n",
    "    'mutation_p': (1.0, 1.0, 1.0),\n",
    "    'sigma' : 0.2,\n",
    "    'model': Vehicle.DUBINS,\n",
    "    'feasiblity_threshold': 95,\n",
    "    'offset': (0, 0),\n",
    "    'map_name': \"cross.obstacles.npy\",\n",
    "    'metric': Metric.MIN,\n",
    "    'hv_ref': (100, 400),\n",
    "}\n",
    "\n",
    "job_settings = {\n",
    "    \"delete\" : True,\n",
    "    \"runs\" : 31,\n",
    "    \"experiment\" : \"dubins_baseline\",\n",
    "    \"group\" : \"default\",\n",
    "    \"user\" : \"basti\",\n",
    "    \"db\" : engine,\n",
    "}\n",
    "add_jobs_to_db(settings, **job_settings)\n",
    "settings[\"n_gens\"] = 200\n",
    "job_settings[\"delete\"] = False\n",
    "\n",
    "s = settings.copy()\n",
    "j = job_settings.copy()\n",
    "j[\"group\"] = \"dubins_mutation\"\n",
    "for a in np.linspace(0.0, 2.0, num=5):\n",
    "    for b in np.linspace(0.0, 2.0, num=5):\n",
    "        for c in np.linspace(0.0, 2.0, num=5):\n",
    "            if a == 0.0 and b == 0.0 and c == 0.0:\n",
    "                continue\n",
    "            s[\"mutation_p\"] = (a, b, c)\n",
    "            j[\"experiment\"] = f\"dubins_mutation_{a:.1f}_{b:.1f}_{c:.1f}\"\n",
    "            add_jobs_to_db(s, **j)\n",
    "            \n",
    "s = settings.copy()\n",
    "s[\"model\"] = Vehicle.STRAIGHT\n",
    "j = job_settings.copy()\n",
    "j[\"group\"] = \"straight_mutation\"\n",
    "for a in np.linspace(0.0, 2.0, num=5):\n",
    "    for b in np.linspace(0.0, 2.0, num=5):\n",
    "        for c in np.linspace(0.0, 2.0, num=5):\n",
    "            if a == 0.0 and b == 0.0 and c == 0.0:\n",
    "                continue\n",
    "            s[\"mutation_p\"] = (a, b, c)\n",
    "            j[\"experiment\"] = f\"straight_mutation_{a:.1f}_{b:.1f}_{c:.1f}\"\n",
    "            add_jobs_to_db(s, **j)\n",
    "            \n",
    "\n",
    "s = settings.copy()\n",
    "j = job_settings.copy()\n",
    "j[\"group\"] = \"dubins_cx\"\n",
    "for i in np.linspace(0.0, 1.0, num=11):\n",
    "    s[\"cxpb\"] = i\n",
    "    j[\"experiment\"] = f\"dubins_cx_{i:.1f}\"\n",
    "    add_jobs_to_db(s, **j)\n",
    "    \n",
    "s = settings.copy()\n",
    "j = job_settings.copy()\n",
    "s[\"model\"] = Vehicle.STRAIGHT\n",
    "j[\"group\"] = \"straight_cx\"\n",
    "for i in np.linspace(0.0, 1.0, num=11):\n",
    "    s[\"cxpb\"] = i\n",
    "    j[\"experiment\"] = f\"straight_cx_{i:.1f}\"\n",
    "    add_jobs_to_db(s, **j)"
   ]
  },
  {
   "cell_type": "code",
   "execution_count": null,
   "metadata": {
    "jupyter": {
     "outputs_hidden": true
    }
   },
   "outputs": [],
   "source": [
    "df_jobs = pd.read_sql_table(\"jobs\", con=engine)\n",
    "for status in range(3):\n",
    "    print(f\"status {status}: {len(df_jobs.loc[df_jobs.status == status])}\")\n",
    "print(df_jobs['experiment'].unique())\n",
    "df_jobs"
   ]
  },
  {
   "cell_type": "code",
   "execution_count": null,
   "metadata": {},
   "outputs": [],
   "source": [
    "runner = ExperimentRunner(engine)\n",
    "running = True\n",
    "while running:\n",
    "    running = runner.fetch_and_execute()\n",
    "    "
   ]
  },
  {
   "cell_type": "code",
   "execution_count": null,
   "metadata": {},
   "outputs": [],
   "source": [
    "df_pop = pd.read_sql(\"populations\", con=engine)\n",
    "plt.figure()\n",
    "sns.scatterplot(data=df_pop, x=\"robustness\", y=\"flowtime\", palette=None, hue=\"crowding_distance\", style=\"non_dominated\", size_order=[True, False], size=\"non_dominated\")\n",
    "plt.show()"
   ]
  },
  {
   "cell_type": "code",
   "execution_count": null,
   "metadata": {},
   "outputs": [],
   "source": [
    "\n",
    "df_jobs = pd.read_sql_table(\"jobs\", con=engine)\n",
    "for status in range(3):\n",
    "    print(f\"status {status}: {len(df_jobs.loc[df_jobs.status == status])}\")\n",
    "\n",
    "    \n",
    "\n",
    "\n",
    "df_pop, df_stats = read_experiment(engine, verbose=True)\n",
    "plt.close('all')"
   ]
  },
  {
   "cell_type": "code",
   "execution_count": null,
   "metadata": {},
   "outputs": [],
   "source": [
    "plt.figure()\n",
    "sns.scatterplot()"
   ]
  },
  {
   "cell_type": "code",
   "execution_count": null,
   "metadata": {},
   "outputs": [],
   "source": [
    "df_stats = df_stats.loc[df_stats.generation % 10 == 0]"
   ]
  },
  {
   "cell_type": "code",
   "execution_count": null,
   "metadata": {},
   "outputs": [],
   "source": [
    "sns.relplot(data=df_stats.loc[df_stats[\"group\"]==\"dubins_mutation\"], x=\"generation\", y=\"hv\", row=\"mutp_1\", col=\"mutp_2\", hue=\"mutp_0\", style=\"mutp_0\", kind=\"line\", ci=90, estimator=np.median, height=2.5, alpha=0.3)"
   ]
  },
  {
   "cell_type": "code",
   "execution_count": null,
   "metadata": {},
   "outputs": [],
   "source": [
    "with plt.xkcd():\n",
    "    sns.relplot(data=df_pop.loc[df_pop[\"non_dominated\"]], col=None, row=None, x=\"robustness\", y=\"flowtime\", hue=\"experiment\")"
   ]
  },
  {
   "cell_type": "code",
   "execution_count": null,
   "metadata": {},
   "outputs": [],
   "source": [
    "# plot one run makespan-flowtime trade-off with non dominated solutions highlighted\n",
    "df = df_pop.loc[df_pop[\"experiment\"].isin(['dubins_mutation145', 'dubins_mutation055', 'dubins_mutation111',\n",
    "       'dubins_mutation151', 'dubins_mutation115', 'dubins_mutation511'])]\n",
    "plt.figure()\n",
    "sns.scatterplot(data=df, x=\"makespan\", y=\"flowtime\", hue=\"experiment\", style=\"non_dominated\", size_order=[True, False], size=\"non_dominated\")\n",
    "plt.show()"
   ]
  },
  {
   "cell_type": "code",
   "execution_count": null,
   "metadata": {},
   "outputs": [],
   "source": [
    "# plot non dominted solutions for all runs\n",
    "plt.figure()\n",
    "sns.scatterplot(data=df.loc[df_pop[\"non_dominated\"]].loc[df_pop[\"run\"] <= 10], x=\"robustness\", y=\"flowtime\", hue=\"experiment\", alpha=.5, style=\"experiment\")#, palette=\"jet\")\n",
    "plt.show()"
   ]
  },
  {
   "cell_type": "code",
   "execution_count": null,
   "metadata": {},
   "outputs": [],
   "source": [
    "plt.figure()\n",
    "sns.scatterplot(data=df, x=\"robustness\", y=\"flowtime\", hue=\"crowding_distance\", palette=\"plasma_r\", style=\"non_dominated\", size_order=[True, False], size=\"non_dominated\")\n",
    "plt.show()"
   ]
  },
  {
   "cell_type": "code",
   "execution_count": null,
   "metadata": {},
   "outputs": [],
   "source": [
    "df_non_dom = df_pop.loc[df_pop[\"experiment\"]==\"dubins_baseline\"].sort_values(\"crowding_distance\", ascending=True)\n",
    "for i, row in df_non_dom[:5].iterrows():\n",
    "    display(row)\n",
    "    plot_indivdual(row, df_jobs=df_jobs, plot=True, animation=True, animation_file=f\"{i}.mp4\")\n"
   ]
  },
  {
   "cell_type": "code",
   "execution_count": null,
   "metadata": {},
   "outputs": [],
   "source": [
    "import traceback\n",
    "traceback.print_last()"
   ]
  },
  {
   "cell_type": "code",
   "execution_count": null,
   "metadata": {},
   "outputs": [],
   "source": []
  },
  {
   "cell_type": "code",
   "execution_count": null,
   "metadata": {},
   "outputs": [],
   "source": [
    "plt.figure()\n",
    "sns.lineplot(data=df_log, x=\"generation\", y=\"f_0_median\")\n",
    "plt.show()\n",
    "plt.figure()\n",
    "sns.lineplot(data=df_log, x=\"generation\", y=\"f_1_median\")\n",
    "plt.show()"
   ]
  },
  {
   "cell_type": "code",
   "execution_count": null,
   "metadata": {},
   "outputs": [],
   "source": [
    "list(df_pop[\"experiment\"].unique())"
   ]
  },
  {
   "cell_type": "code",
   "execution_count": null,
   "metadata": {},
   "outputs": [],
   "source": [
    "JobStatus"
   ]
  },
  {
   "cell_type": "code",
   "execution_count": null,
   "metadata": {},
   "outputs": [],
   "source": [
    "for s in JobStatus:\n",
    "    print(s)"
   ]
  },
  {
   "cell_type": "code",
   "execution_count": null,
   "metadata": {},
   "outputs": [],
   "source": [
    "df = pd.DataFrame({\"o1\":[1,2,3,4], \"o2\":[4,3,2,1], \"non_dominated\": [True, True, True, True]})\n",
    "df"
   ]
  },
  {
   "cell_type": "code",
   "execution_count": null,
   "metadata": {},
   "outputs": [],
   "source": [
    "def hypervolume2(ref, df, objective_1=None, objective_2=None):\n",
    "    x_last = ref[0]\n",
    "    hv = 0\n",
    "    for i, x in df.loc[df.non_dominated].sort_values(by=[objective_1], ascending=False).iterrows():\n",
    "        if x[objective_1] > ref[0]:\n",
    "            continue\n",
    "        if x[objective_2] > ref[1]:\n",
    "            continue\n",
    "        delta_f1 = x_last - x[objective_1]\n",
    "        delta_f2 = ref[1] - x[objective_2]\n",
    "        if delta_f1 > 0 and delta_f2 > 0:\n",
    "            hv += delta_f1 * delta_f2\n",
    "        x_last = x[objective_1]\n",
    "    return hv\n",
    "\n",
    "hypervolume2((1,1), df, objective_1=\"o1\",objective_2=\"o2\")"
   ]
  },
  {
   "cell_type": "code",
   "execution_count": null,
   "metadata": {},
   "outputs": [],
   "source": [
    "hv = hypervolume2((100, 230), df_pop.loc[df_pop[\"experiment\"].eq(\"dubins_baseline\") & df_pop[\"run\"].eq(1)], objective_1=\"robustness\", objective_2=\"flowtime\")\n",
    "print(hv)\n",
    "plt.figure()\n",
    "sns.scatterplot(data=df_pop.loc[df_pop[\"experiment\"].eq(\"dubins_baseline\") & df_pop[\"run\"].eq(1)], x=\"robustness\",y=\"flowtime\", hue=\"non_dominated\")\n",
    "plt.show()"
   ]
  },
  {
   "cell_type": "code",
   "execution_count": null,
   "metadata": {},
   "outputs": [],
   "source": [
    "sns.lineplot(df_stats, x=\"generation\", y=\"hv\")"
   ]
  },
  {
   "cell_type": "code",
   "execution_count": null,
   "metadata": {},
   "outputs": [],
   "source": [
    "df = df_stats.groupby([\"group\",\"experiment\", \"generation\"]).median()\n",
    "df = df.reset_index(level=[\"group\", \"experiment\", \"generation\"])"
   ]
  },
  {
   "cell_type": "code",
   "execution_count": null,
   "metadata": {},
   "outputs": [],
   "source": [
    "sns.relplot(data=df, x=\"generation\", y=\"hv\", col=\"mutp_1\", row=\"mutp_2\", hue=\"mutp_0\", kind=\"line\")"
   ]
  },
  {
   "cell_type": "code",
   "execution_count": null,
   "metadata": {},
   "outputs": [],
   "source": [
    "df = df_pop.loc[df_pop.group == \"dubins_mutation\"]\n",
    "\n",
    "df = df.loc[df.mutp_0 == 0.5]\n",
    "sns.relplot(data=df, x=\"robustness\", y=\"flowtime\", hue=\"group_front\", style=\"group_front\", row=\"mutp_1\", col=\"mutp_2\", height=2.5, alpha=0.2, size=\"experiment_front\", size_order=[True, False])"
   ]
  },
  {
   "cell_type": "code",
   "execution_count": null,
   "metadata": {},
   "outputs": [],
   "source": [
    "plt.close()"
   ]
  },
  {
   "cell_type": "code",
   "execution_count": null,
   "metadata": {},
   "outputs": [],
   "source": [
    "sns.relplot(df_stats.loc[df_stats.group==\"dubins_mutation\"])"
   ]
  },
  {
   "cell_type": "code",
   "execution_count": null,
   "metadata": {},
   "outputs": [],
   "source": [
    "df = pd.read_sql_query(sql, con=db)"
   ]
  },
  {
   "cell_type": "code",
   "execution_count": null,
   "metadata": {},
   "outputs": [],
   "source": []
  }
 ],
 "metadata": {
  "kernelspec": {
   "display_name": "Python 3",
   "language": "python",
   "name": "python3"
  },
  "language_info": {
   "codemirror_mode": {
    "name": "ipython",
    "version": 3
   },
   "file_extension": ".py",
   "mimetype": "text/x-python",
   "name": "python",
   "nbconvert_exporter": "python",
   "pygments_lexer": "ipython3",
   "version": "3.8.1"
  }
 },
 "nbformat": 4,
 "nbformat_minor": 4
}
