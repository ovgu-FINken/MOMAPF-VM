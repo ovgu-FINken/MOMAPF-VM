{
 "cells": [
  {
   "cell_type": "markdown",
   "metadata": {},
   "source": [
    "# Multi Objective Multi Agent Pathfinding Subject to Vehicle Models\n",
    "\n",
    "## Overview\n",
    "- loading packages\n",
    "- Performing single runs\n",
    "- Visualizing single runs\n",
    "- Visualising multiple runs from the DB\n",
    "- Running multiple experiments and saving to DB\n",
    "\n",
    "## Objectives\n",
    "- Makespan: Number of steps of the longest path\n",
    "- Flowtime: Mean number of steps for all agents\n",
    "- Robustness:\n",
    "  * Positive: Shortest distance \n",
    "    * of an agent to other agents\n",
    "    * half the distance to the wall\n",
    "    * reasoning: an agent has radius r and the bigger r could be the better, min distance between two agents is twice agents to wall\n",
    "  * Negative: In case an agent crosses through an obstacle fraction of the infeasible steps"
   ]
  },
  {
   "cell_type": "code",
   "execution_count": null,
   "metadata": {
    "jupyter": {
     "outputs_hidden": true
    }
   },
   "outputs": [],
   "source": [
    "%pip install --upgrade pip \n",
    "%pip install --upgrade numpy dubins deap matplotlib pandas ipympl seaborn ipywidgets sqlalchemy gitpython nbstripout pre-commit smmap"
   ]
  },
  {
   "cell_type": "code",
   "execution_count": null,
   "metadata": {},
   "outputs": [],
   "source": [
    "%matplotlib inline\n",
    "\n",
    "import numpy as np\n",
    "import matplotlib.pyplot as plt\n",
    "from matplotlib import rc, animation\n",
    "import itertools\n",
    "from IPython import display\n",
    "import pandas as pd\n",
    "import seaborn as sns\n",
    "import cProfile\n",
    "import pstats\n",
    "\n",
    "import ipywidgets as widgets\n",
    "\n",
    "from deap import base, creator, tools, algorithms\n",
    "\n",
    "rc(\"animation\", html=\"jshtml\")\n",
    "\n",
    "from path import *\n",
    "from obstacle_map import *\n",
    "from problem import *\n",
    "from experiment import *\n",
    "\n",
    "import sqlalchemy\n",
    "\n",
    "engine = sqlalchemy.create_engine(get_key(filename=\"sqlite_dump.key\"))\n",
    "plt.close(\"all\")"
   ]
  },
  {
   "cell_type": "markdown",
   "metadata": {},
   "source": [
    "## Running the Algorithm"
   ]
  },
  {
   "cell_type": "code",
   "execution_count": null,
   "metadata": {},
   "outputs": [],
   "source": [
    "settings = {\n",
    "    'radius': 20, # turning radius (dubins vehicle)\n",
    "    'model': Vehicle.STRAIGHT, # vehicle model\n",
    "    'step': 1, # step size for simulated behaviour\n",
    "    'domain': (0, 200.0), # area of operation (-100, 100) means that the vehicles will move in a square from (x=-100, y=-100) to (x=100, y=100)\n",
    "    'n_agents': 3, # number of agents\n",
    "    'n_waypoints': 4, # waypoints per agent (excluding start and end)\n",
    "    'n_gens': 200, # number of generations to run the algorithm\n",
    "    'population_size': 4*25, # population size for the algorithm, shoulod be divisible by 4 for nsga2\n",
    "    'cxpb': .5, # crossover probablity\n",
    "    'mutpb': .5, # mutation rate (not applicable in nsga2)\n",
    "    'mutation_p': (1.0, 4.0, 5.0), # distribution of mutation types\n",
    "    'sigma' : 0.3, # sigma for gauss-distribution in waypoint-gauss-mutation\n",
    "    'feasiblity_threshold': 95, # how robust a solution has to be to be regarded feasible (100-min_dist)\n",
    "    'offset': (0, 0), # offset of the map to the agents\n",
    "    'map_name': \"labyrinth_2_120.obstacles.npy\", # name of the obstacle-map file\n",
    "    'metric': Metric.MIN, # metric to use in fitness calculation\n",
    "    'hv_ref': (100, 400), # reference for hyper volume\n",
    "}"
   ]
  },
  {
   "cell_type": "code",
   "execution_count": null,
   "metadata": {},
   "outputs": [],
   "source": [
    "profiling = False\n",
    "experiment = Experiment(settings) # load the settings\n",
    "experiment.setup() # setup population and deap-toolbox\n",
    "experiment.seed(42)\n",
    "if profiling:\n",
    "    profile = cProfile.Profile()\n",
    "    profile.enable()\n",
    "pop, logbook = experiment.run(verbose=True) # start running :)\n",
    "if profiling:\n",
    "    profile.disable()"
   ]
  },
  {
   "cell_type": "code",
   "execution_count": null,
   "metadata": {},
   "outputs": [],
   "source": [
    "if profiling:\n",
    "    stats = pstats.Stats(profile)\n",
    "    stats.sort_stats(\"cumtime\")\n",
    "    stats.print_stats()"
   ]
  },
  {
   "cell_type": "markdown",
   "metadata": {},
   "source": [
    "## Visualization of single runs\n",
    "\n",
    "- plot general data\n",
    "- plot best solutions\n",
    "- animation for best solution (use filename=\"FOO.mp4\" to save a video file)\n",
    "- visualize mutation and crossover operators"
   ]
  },
  {
   "cell_type": "code",
   "execution_count": null,
   "metadata": {},
   "outputs": [],
   "source": [
    "# select 5 best individuals (non-dominated sorting)\n",
    "best = experiment.toolbox.select(pop, 5)"
   ]
  },
  {
   "cell_type": "code",
   "execution_count": null,
   "metadata": {},
   "outputs": [],
   "source": [
    "for ind in best:\n",
    "    plt.figure()\n",
    "    f = experiment.problem.solution_plot(ind, plot_range=range(0, 200), legend=False, show=False)\n",
    "\n",
    "    plt.title(f\"$f_R^*={ind.fitness.values[0]:.1f}$, $f_L={ind.fitness.values[1]:.1f}$\")\n",
    "    #plt.savefig(\"fname\")\n",
    "    plt.show()"
   ]
  },
  {
   "cell_type": "code",
   "execution_count": null,
   "metadata": {},
   "outputs": [],
   "source": [
    "plt.close(\"all\")"
   ]
  },
  {
   "cell_type": "code",
   "execution_count": null,
   "metadata": {},
   "outputs": [],
   "source": [
    "experiment.problem.get_point = experiment.problem._get_point\n",
    "for i, sol in enumerate(best):\n",
    "    experiment.problem.solution_animation(sol, plot_range=range(0,200))#, filename=f\"with_obstancle_{i}.mp4\")"
   ]
  },
  {
   "cell_type": "code",
   "execution_count": null,
   "metadata": {},
   "outputs": [],
   "source": [
    "sol = experiment.toolbox.individual()\n",
    "experiment.problem.solution_plot(sol, plot_range=(0, 200))\n",
    "print(sol)\n",
    "print(experiment.problem.encode(experiment.problem.decode(sol)))\n",
    "\n",
    "experiment.problem.uniform_mutation(sol, debug = True)\n",
    "print(sol)\n",
    "print(\"uniform mutation:\")\n",
    "experiment.problem.solution_plot(sol, plot_range=range(0, 200))\n",
    "experiment.problem.mutate(sol)\n",
    "print(\"1pt gaussian mutation:\")\n",
    "experiment.problem.solution_plot(sol, plot_range=range(0, 200))\n",
    "experiment.problem.mutate_full(sol)\n",
    "print(\"full gaussian mutation:\")\n",
    "experiment.problem.solution_plot(sol, plot_range=range(0, 200))\n",
    "experiment.problem.skip_mutation(sol, debug=True)\n",
    "print(\"skip-mutation:\")\n",
    "experiment.problem.solution_plot(sol, plot_range=range(0, 200))\n",
    "#problem.waypoints_to_path(problem.decode(sol))"
   ]
  },
  {
   "cell_type": "markdown",
   "metadata": {},
   "source": [
    "## Saving and Visualisation - Multiple runs with DB\n",
    "\n",
    "* works with `sqlalchemy` package and `sqlite` in dev environment\n",
    "* currently uses `experiments.db` saved to `engine` variable\n",
    "* adding and removing jobs to the db\n",
    "* running jobs\n",
    "* visualisation"
   ]
  },
  {
   "cell_type": "code",
   "execution_count": null,
   "metadata": {},
   "outputs": [],
   "source": [
    "plt.close(\"all\")"
   ]
  },
  {
   "cell_type": "code",
   "execution_count": null,
   "metadata": {},
   "outputs": [],
   "source": [
    "df_jobs = pd.read_sql_table(\"jobs\", con=engine)\n",
    "for status in range(3):\n",
    "    print(f\"status {status}: {len(df_jobs.loc[df_jobs.status == status])}\")\n",
    "print(df_jobs['experiment'].unique())\n",
    "print(len(df_jobs['index'].unique()))\n",
    "print(len(df_jobs))\n",
    "df_jobs.loc[df_jobs.group.isin([\"dubins_cx\"])]"
   ]
  },
  {
   "cell_type": "code",
   "execution_count": null,
   "metadata": {},
   "outputs": [],
   "source": [
    "runner = ExperimentRunner(engine)\n",
    "running = True\n",
    "while running:\n",
    "    running = runner.fetch_and_execute()\n",
    "    "
   ]
  },
  {
   "cell_type": "code",
   "execution_count": null,
   "metadata": {},
   "outputs": [],
   "source": [
    "\n",
    "df_jobs = pd.read_sql_table(\"jobs\", con=engine)\n",
    "for status in range(3):\n",
    "    print(f\"status {status}: {len(df_jobs.loc[df_jobs.status == status])}\")\n",
    "\n",
    "    \n",
    "\n",
    "\n",
    "df_pop, df_stats = read_experiment(engine, verbose=True)\n",
    "print(\"read all\")\n",
    "\n",
    "df_pop[\"model_name\"] = df_pop.apply(lambda row: Vehicle(row.model).name, axis = 1)\n",
    "df_stats[\"model_name\"] = df_pop.apply(lambda row: Vehicle(row.model).name, axis = 1)\n",
    "\n",
    "\n",
    "\n",
    "plt.close('all')"
   ]
  },
  {
   "cell_type": "code",
   "execution_count": null,
   "metadata": {},
   "outputs": [],
   "source": [
    "# plot in paper, do not delete!\n",
    "sns.relplot(data=df_stats.loc[df_stats.group.eq(\"all\") & df_stats.model.eq(1) & df_stats.n_agents.eq(7)], x=\"generation\", y=\"hv\", col=\"n_waypoints\", hue=\"map_name\", style=\"map_name\", kind=\"line\", ci=90, estimator=np.median, height=3, alpha=0.3, legend=False)"
   ]
  },
  {
   "cell_type": "code",
   "execution_count": null,
   "metadata": {},
   "outputs": [],
   "source": [
    "plt.close(\"all\")\n",
    "# plot in paper, do not delete!\n",
    "for i in df_stats.n_waypoints.unique():\n",
    "    for j in df_stats.n_agents.unique():\n",
    "        plt.figure(figsize=(3, 2.5))\n",
    "        ax = sns.lineplot(data=df_stats.loc[df_stats.group.eq(\"all\") & df_stats.model.eq(1) & df_stats.n_agents.eq(j) & df_stats.n_waypoints.eq(i)], x=\"generation\", y=\"hv\", hue=\"map_name\", style=\"map_name\", ci=90, estimator=np.median, alpha=0.3, legend=False)\n",
    "        plt.ylim((0,10000))\n",
    "        #ylim((0,10000))\n",
    "        print(f\"fig/Dubins-{j}_agents-{i}_waypoints.pdf\")\n",
    "        \n",
    "        plt.tight_layout()\n",
    "        plt.savefig(f\"fig/Dubins-{j}_agents-{i}_waypoints.pdf\")\n",
    "        plt.show()"
   ]
  },
  {
   "cell_type": "code",
   "execution_count": null,
   "metadata": {},
   "outputs": [],
   "source": [
    "# plot in paper, do not delete!\n",
    "sns.relplot(data=df_pop.loc[df_pop.group.eq(\"all\") & df_pop.model.eq(1) & df_pop.n_agents.eq(7) & df_pop.experiment_front], x=\"robustness\", y=\"flowtime\", col=\"n_waypoints\", hue=\"map_name\", style=\"map_name\", height=3, alpha=0.3, legend=False)\n",
    "plt.show()"
   ]
  },
  {
   "cell_type": "code",
   "execution_count": null,
   "metadata": {},
   "outputs": [],
   "source": [
    "# plot in paper, do not delete!\n",
    "df_pop[\"$n$\"] = df_pop.n_waypoints.astype(\"category\")\n",
    "for n in df_pop.n_agents.unique():\n",
    "    plt.figure(figsize=(3,2.5))\n",
    "    x = df_pop.loc[df_pop.group.eq(\"all\") & df_pop.model.eq(1) & df_pop.n_agents.eq(n) & df_pop.experiment_front & df_pop.map_name.eq(\"cross.obstacles.npy\")]\n",
    "    ax = sns.scatterplot(data=x.loc[x[\"n_waypoints\"] % 2 == 1], x=\"robustness\", y=\"flowtime\", hue=\"$n$\", style=\"$n$\", alpha=0.3)\n",
    "    ax.set(xlabel='$f_R^*$', ylabel='$f_L$')\n",
    "    plt.tight_layout()\n",
    "    plt.savefig(f\"dubins_waypoints_{n}_agents.pdf\")\n",
    "    plt.show()\n",
    "    \n",
    "plt.close(\"all\")"
   ]
  },
  {
   "cell_type": "code",
   "execution_count": null,
   "metadata": {},
   "outputs": [],
   "source": [
    "df = df_stats.loc[df_stats.generation.eq(390) & df_stats.model.eq(1)]\n",
    "from scipy.stats import iqr\n",
    "\n",
    "def median(x):\n",
    "    median = int(np.median(x))\n",
    "    i = int(iqr(x))\n",
    "    return f\"{median}\\\\tiny{{({i})}}\"\n",
    "\n",
    "df[\"env\"] = df[\"map_name\"]\n",
    "df[\"$n$\"] = df[\"n_waypoints\"]\n",
    "df[\"$k$\"] = df[\"n_agents\"]\n",
    "x = df.groupby([\"env\", \"$n$\", \"$k$\"]).agg(median)\n",
    "x = x.loc[:, [\"hv\"]].unstack()\n",
    "x.to_latex(\"table.tex\", escape=False)\n",
    "display.HTML(\n",
    "    x.to_html()\n",
    ")"
   ]
  },
  {
   "cell_type": "code",
   "execution_count": null,
   "metadata": {},
   "outputs": [],
   "source": [
    "df = df_stats.loc[df_stats.generation.eq(390) & df_stats.n_waypoints.eq(3)]\n",
    "from scipy.stats import iqr\n",
    "\n",
    "def median(x):\n",
    "    median = int(np.median(x))\n",
    "    i = int(iqr(x))\n",
    "    return f\"{median}\\\\tiny{{({i})}}\"\n",
    "\n",
    "df[\"env\"] = df[\"map_name\"]\n",
    "df[\"$k$\"] = df[\"n_agents\"]\n",
    "x = df.groupby([\"env\", \"model_name\", \"$k$\"]).agg(median)\n",
    "x = x.loc[:, [\"hv\"]].unstack()\n",
    "x.to_latex(\"table_model.tex\", escape=False)\n",
    "display.HTML(\n",
    "    x.to_html()\n",
    ")"
   ]
  },
  {
   "cell_type": "code",
   "execution_count": null,
   "metadata": {},
   "outputs": [],
   "source": [
    "# plot in paper, do not delete!\n",
    "plt.close(\"all\")\n",
    "#df_pop[\"model_name\"] = df_pop.apply(lambda row: Vehicle(row.model).name, axis = 1)\n",
    "\n",
    "df_pop.model_name = df_pop[\"model_name\"].astype(\"category\")\n",
    "\n",
    "for i in df_pop.map_name.unique():\n",
    "    plt.figure(figsize=(4.75, 2.5))\n",
    "    ax = sns.scatterplot(data=df_pop.loc[df_pop.group.eq(\"all\") & df_pop.n_agents.eq(7) & df_pop.n_waypoints.eq(3) & df_pop.experiment_front & df_pop.map_name.eq(i)],\n",
    "                         x=\"robustness\", y=\"flowtime\", hue=\"model_name\", style=\"model_name\", hue_order=[\"BEZIER\", \"DUBINS\", \"STRAIGHT\", \"REEDS_SHEPP\",\"RTR\"], alpha=0.3, legend='brief')\n",
    "    ax.legend(loc='center left', bbox_to_anchor=(1.005, 0.5), ncol=1)\n",
    "    ax.set(xlabel='$f_R^*$', ylabel='$f_L$')\n",
    "    plt.tight_layout()\n",
    "    plt.savefig(f\"fronts/{i}.pdf\")\n",
    "    plt.show()"
   ]
  },
  {
   "cell_type": "code",
   "execution_count": null,
   "metadata": {},
   "outputs": [],
   "source": [
    "# plot in paper, do not delete!\n",
    "sns.relplot(data=df_stats.loc[df_stats.group.eq(\"all\") & df_stats.n_waypoints.eq(3) & df_stats.n_agents.eq(7)], x=\"generation\", y=\"hv\", col=\"model\", hue=\"map_name\", style=\"map_name\", kind=\"line\", ci=90, estimator=np.median, height=3, alpha=0.3, legend=False)"
   ]
  },
  {
   "cell_type": "code",
   "execution_count": null,
   "metadata": {},
   "outputs": [],
   "source": [
    "# plot in paper, do not delete!\n",
    "sns.relplot(data=df_stats.loc[df_stats.group.eq(\"all\") & df_stats.model.eq(1) & df_stats.n_waypoints.eq(3)], x=\"generation\", y=\"hv\", col=\"n_agents\", hue=\"map_name\", style=\"map_name\", kind=\"line\", ci=90, estimator=np.median, height=3, alpha=0.3, legend=False)"
   ]
  },
  {
   "cell_type": "code",
   "execution_count": null,
   "metadata": {},
   "outputs": [],
   "source": [
    "plt.close(\"all\")"
   ]
  },
  {
   "cell_type": "code",
   "execution_count": null,
   "metadata": {},
   "outputs": [],
   "source": [
    "for m_name in df_pop.map_name.unique():\n",
    "    x = df_pop.loc[df_pop.n_agents.eq(7) & df_pop.model.eq(1) & df_pop.n_waypoints.eq(3) & df_pop.experiment_front & df_pop.map_name.eq(m_name)].sort_values(by=\"robustness\")\n",
    "    \n",
    "    plt.figure(figsize=(2.5,2.5))\n",
    "    plot_indivdual(x.iloc[0], animation=False, df_jobs=df_jobs, show=False)#, animation_file=f\"{x['model']}.mp4\")\n",
    "    plt.savefig(f\"solutions/dubins_best_{m_name}.pdf\")\n",
    "    plt.show()\n",
    "    \n",
    "    plt.figure(figsize=(2.5,2.5))\n",
    "    h = int(len(x) / 2)\n",
    "    plot_indivdual(x.iloc[h], animation=False, df_jobs=df_jobs, show=False)#, animation_file=f\"{x['model']}.mp4\")\n",
    "    plt.savefig(f\"solutions/dubins_middle_{m_name}.pdf\")\n",
    "    plt.show()\n",
    "\n",
    "    plt.figure(figsize=(2.5,2.5))\n",
    "    plot_indivdual(x.iloc[-1], animation=False, df_jobs=df_jobs, show=False)#, animation_file=f\"{x['model']}.mp4\")\n",
    "    plt.savefig(f\"solutions/dubins_worst_{m_name}.pdf\")\n",
    "    plt.show()\n",
    "    \n",
    "    "
   ]
  },
  {
   "cell_type": "code",
   "execution_count": null,
   "metadata": {},
   "outputs": [],
   "source": [
    "def plot_indivdual(row, df_jobs=None, plot=True, animation=False, animation_file=None, show=True):\n",
    "    \"\"\"creates a plot from the individual in resulting dataframe\"\"\"\n",
    "    settings = fetch_settings(df_jobs, job_index=row['job_index'])\n",
    "    ex = Experiment(settings)\n",
    "    ex.setup()\n",
    "    ind = json.loads(row['value'])\n",
    "    if plot:\n",
    "        ex.problem.solution_plot(ind, show=show)\n",
    "        ax = plt.gca()\n",
    "        ax.set_xticks([])\n",
    "        ax.set_yticks([])\n",
    "        ax.set_xlabel(None)\n",
    "        ax.set_ylabel(None)\n",
    "        plt.title(f\"$f_R^*={row['robustness']:.1f}$, $f_L={row['flowtime']:.1f}$, $k={row['n_agents']}$, $n={row['n_waypoints']}$\")\n",
    "        plt.tight_layout()\n",
    "    if animation:\n",
    "        ex.problem.solution_animation(ind, filename=animation_file)\n",
    "    return settings, ex\n",
    "    \n",
    "    "
   ]
  },
  {
   "cell_type": "code",
   "execution_count": null,
   "metadata": {},
   "outputs": [],
   "source": [
    "plt.close(\"all\")"
   ]
  },
  {
   "cell_type": "code",
   "execution_count": null,
   "metadata": {},
   "outputs": [],
   "source": []
  }
 ],
 "metadata": {
  "kernelspec": {
   "display_name": "Python 3",
   "language": "python",
   "name": "python3"
  },
  "language_info": {
   "codemirror_mode": {
    "name": "ipython",
    "version": 3
   },
   "file_extension": ".py",
   "mimetype": "text/x-python",
   "name": "python",
   "nbconvert_exporter": "python",
   "pygments_lexer": "ipython3",
   "version": "3.8.1"
  }
 },
 "nbformat": 4,
 "nbformat_minor": 4
}
